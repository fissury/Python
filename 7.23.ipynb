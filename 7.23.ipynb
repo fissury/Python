{
 "cells": [
  {
   "cell_type": "markdown",
   "metadata": {},
   "source": [
    "# 对象和类\n",
    "- 一个学生，一张桌子，一个圆都是对象\n",
    "- 对象是类的一个实例，你可以创建多个对象，创建类的一个实例过程被称为实例化，\n",
    "- 在Python中对象就是实例，而实例就是对象"
   ]
  },
  {
   "cell_type": "markdown",
   "metadata": {},
   "source": [
    "## 定义类\n",
    "class ClassName:\n",
    "\n",
    "    do something\n",
    "    \n",
    "- class 类的表示与def 一样\n",
    "- 类名最好使用驼峰式\n",
    "- 在Python2中类是需要继承基类object的，在Python中默认继承，可写可不写\n",
    "- 可以将普通代码理解为皮肤，而函数可以理解为内衣，那么类可以理解为外套"
   ]
  },
  {
   "cell_type": "code",
   "execution_count": 34,
   "metadata": {
    "collapsed": true
   },
   "outputs": [],
   "source": [
    "# 类必须初始化,是用self,初始化自身.\n",
    "# 类里面所有的函数中的第一个变量不再是参数,而是一个印记.\n",
    "# 在类中,如果有参数需要多次使用,那么就可以将其设置为共享参数\n",
    "class Joker:\n",
    "    def __init__(self,num1,num2):\n",
    "        print('我初始化了')\n",
    "        # 参数共享\n",
    "        self.num1 = num1\n",
    "        self.num2 = num2\n",
    "        print(self.num1,self.num2)\n",
    "    def SUM(self,name):\n",
    "        print(name)\n",
    "        return self.num1 + self.num2\n",
    "    def cheng(self):\n",
    "        return self.num1 * self.num2"
   ]
  },
  {
   "cell_type": "code",
   "execution_count": 35,
   "metadata": {},
   "outputs": [
    {
     "name": "stdout",
     "output_type": "stream",
     "text": [
      "我初始化了\n",
      "1 2\n"
     ]
    }
   ],
   "source": [
    "huwang = Joker(num1=1,num2=2) # () 代表直接走初始化函数"
   ]
  },
  {
   "cell_type": "code",
   "execution_count": 36,
   "metadata": {},
   "outputs": [
    {
     "name": "stdout",
     "output_type": "stream",
     "text": [
      "JJJ\n"
     ]
    },
    {
     "data": {
      "text/plain": [
       "3"
      ]
     },
     "execution_count": 36,
     "metadata": {},
     "output_type": "execute_result"
    }
   ],
   "source": [
    "huwang.SUM(name='JJJ')"
   ]
  },
  {
   "cell_type": "code",
   "execution_count": 33,
   "metadata": {},
   "outputs": [
    {
     "data": {
      "text/plain": [
       "2"
      ]
     },
     "execution_count": 33,
     "metadata": {},
     "output_type": "execute_result"
    }
   ],
   "source": [
    "huwang.cheng()"
   ]
  },
  {
   "cell_type": "markdown",
   "metadata": {},
   "source": [
    "## 定义一个不含初始化__init__的简单类\n",
    "class ClassName:\n",
    "\n",
    "    joker = “Home”\n",
    "    \n",
    "    def func():\n",
    "        print('Worker')\n",
    "    \n",
    "- 尽量少使用"
   ]
  },
  {
   "cell_type": "markdown",
   "metadata": {},
   "source": [
    "\n",
    "\n",
    "## 定义一个标准类\n",
    "- __init__ 代表初始化，可以初始化任何动作\n",
    "- 此时类调用要使用()，其中（）可以理解为开始初始化\n",
    "- 初始化内的元素，类中其他的函数可以共享\n",
    "![](../Photo/85.png)"
   ]
  },
  {
   "cell_type": "markdown",
   "metadata": {},
   "source": [
    "- Circle 和 className_ 的第一个区别有 __init__ 这个函数\n",
    "- 。。。。   第二个区别，类中的每一个函数都有self的这个“参数”"
   ]
  },
  {
   "cell_type": "markdown",
   "metadata": {},
   "source": [
    "## 何为self？\n",
    "- self 是指向对象本身的参数\n",
    "- self 只是一个命名规则，其实可以改变的，但是我们约定俗成的是self，也便于理解\n",
    "- 使用了self就可以访问类中定义的成员\n",
    "<img src=\"../Photo/86.png\"></img>"
   ]
  },
  {
   "cell_type": "markdown",
   "metadata": {},
   "source": [
    "## 使用类 Cirlcle"
   ]
  },
  {
   "cell_type": "markdown",
   "metadata": {},
   "source": [
    "## 类的传参\n",
    "- class ClassName:\n",
    "    \n",
    "        def __init__(self, para1,para2...)：\n",
    "            \n",
    "            self.para1 = para1\n",
    "            \n",
    "            self.para2 = para2"
   ]
  },
  {
   "cell_type": "markdown",
   "metadata": {},
   "source": [
    "## EP:\n",
    "- A：定义一个类，类中含有两个功能：\n",
    "    - 1、产生3个随机数，获取最大值\n",
    "    - 2、产生3个随机数，获取最小值\n",
    "- B：定义一个类，（类中函数的嵌套使用）\n",
    "    - 1、第一个函数的功能为：输入一个数字\n",
    "    - 2、第二个函数的功能为：使用第一个函数中得到的数字进行平方处理\n",
    "    - 3、第三个函数的功能为：得到平方处理后的数字 - 原来输入的数字，并打印结果"
   ]
  },
  {
   "cell_type": "code",
   "execution_count": 83,
   "metadata": {
    "collapsed": true
   },
   "outputs": [],
   "source": [
    "class Joker2:\n",
    "    \"\"\"\n",
    "    Implement Login Class.\n",
    "    \"\"\"\n",
    "    def __init__(self):\n",
    "        \"\"\"\n",
    "        Initialization class\n",
    "        Arguments:\n",
    "        ---------\n",
    "            name: xxx\n",
    "            None.\n",
    "        Returns:\n",
    "        --------\n",
    "            None.\n",
    "        \"\"\"\n",
    "        self.account = '123'\n",
    "        self.password = '123'\n",
    "    def Account(self):\n",
    "        \"\"\"\n",
    "        Input Account value\n",
    "        Arguments:\n",
    "        ---------\n",
    "            None.\n",
    "        Returns:\n",
    "        --------\n",
    "            None.\n",
    "        \"\"\"\n",
    "        self.acc = input('请输入账号:>>')\n",
    "    def Password(self):\n",
    "        \"\"\"\n",
    "        Input Password value\n",
    "        Arguments:\n",
    "        ---------\n",
    "            None.\n",
    "        Returns:\n",
    "        --------\n",
    "            None.\n",
    "        \"\"\"\n",
    "        self.passwor = input('请输入密码:>>')\n",
    "    def Check(self):\n",
    "        \"\"\"\n",
    "        Check account and password\n",
    "        Note:\n",
    "        ----\n",
    "            we need \"and\" connect.\n",
    "            if account and password is right, then login OK.\n",
    "            else: running Veriy func.\n",
    "        \"\"\"\n",
    "        if self.acc == self.account and self.passwor == self.password:\n",
    "            print('Success')\n",
    "        else:\n",
    "            # running Verify !\n",
    "            self.Verify()\n",
    "    def Verify(self):\n",
    "        \"\"\"\n",
    "        Verify ....\n",
    "        \"\"\"\n",
    "        Verify_Var = 123\n",
    "        print('验证码是:',Verify_Var)\n",
    "        while 1:\n",
    "            User_Verify = eval(input('请输入验证码:>>'))\n",
    "            if User_Verify == Verify_Var:\n",
    "                print('Failed')\n",
    "                break\n",
    "    def Start(self):\n",
    "        \"\"\"\n",
    "        Start definelogistics.\n",
    "        \"\"\"\n",
    "        self.Account()\n",
    "        self.Password()\n",
    "        self.Check()"
   ]
  },
  {
   "cell_type": "code",
   "execution_count": 84,
   "metadata": {
    "collapsed": true
   },
   "outputs": [],
   "source": [
    "# 创建类的一个实例\n",
    "a = Joker2()"
   ]
  },
  {
   "cell_type": "code",
   "execution_count": 82,
   "metadata": {},
   "outputs": [
    {
     "name": "stdout",
     "output_type": "stream",
     "text": [
      "请输入账号:>>123\n",
      "请输入密码:>>1\n",
      "验证码是: 123\n",
      "请输入验证码:>>1\n",
      "请输入验证码:>>1\n",
      "请输入验证码:>>123\n",
      "Failed\n"
     ]
    }
   ],
   "source": [
    "a.Start()"
   ]
  },
  {
   "cell_type": "markdown",
   "metadata": {},
   "source": [
    "## 类的继承\n",
    "- 类的单继承\n",
    "- 类的多继承\n",
    "- 继承标识\n",
    ">  class SonClass(FatherClass):\n",
    "            \n",
    "            def __init__(self):\n",
    "            \n",
    "                FatherClass.__init__(self)"
   ]
  },
  {
   "cell_type": "code",
   "execution_count": 110,
   "metadata": {
    "scrolled": true
   },
   "outputs": [
    {
     "data": {
      "text/plain": [
       "1000"
      ]
     },
     "execution_count": 110,
     "metadata": {},
     "output_type": "execute_result"
    }
   ],
   "source": [
    "a = 100\n",
    "a = 1000\n",
    "a"
   ]
  },
  {
   "cell_type": "markdown",
   "metadata": {},
   "source": [
    "私有变量,不可继承,不可在外部调用,但是可以在内部使用."
   ]
  },
  {
   "cell_type": "code",
   "execution_count": 32,
   "metadata": {
    "collapsed": true
   },
   "outputs": [],
   "source": [
    "class A:\n",
    "    def __init__(self):\n",
    "        self.__a = 'a'\n",
    "    def a_(self):\n",
    "        print('aa')\n",
    "        print(self.__a)"
   ]
  },
  {
   "cell_type": "code",
   "execution_count": 35,
   "metadata": {},
   "outputs": [
    {
     "name": "stdout",
     "output_type": "stream",
     "text": [
      "hahah\n"
     ]
    }
   ],
   "source": [
    "def b():\n",
    "    a()\n",
    "    \n",
    "def a():\n",
    "    print('hahah')\n",
    "b()"
   ]
  },
  {
   "cell_type": "markdown",
   "metadata": {},
   "source": [
    "# _ _ -- + = / \\ { } [] ! ~ !@ # $ % ^ & * ( ) < > ……"
   ]
  },
  {
   "cell_type": "markdown",
   "metadata": {},
   "source": [
    "## 私有数据域(私有变量，或者私有函数)\n",
    "- 在Python中 变量名或者函数名使用双下划线代表私有  \\__Joker,   def \\__Joker():\n",
    "- 私有数据域不可继承\n",
    "- 私有数据域强制继承   \\__dir__()"
   ]
  },
  {
   "cell_type": "markdown",
   "metadata": {},
   "source": [
    "![](../Photo/87.png)"
   ]
  },
  {
   "cell_type": "markdown",
   "metadata": {},
   "source": [
    "## EP:\n",
    "![](../Photo/88.png)\n",
    "![](../Photo/89.png)\n",
    "![](../Photo/90.png)\n"
   ]
  },
  {
   "cell_type": "markdown",
   "metadata": {},
   "source": [
    "## 类的其他\n",
    "- 类的封装\n",
    "    - 实际上就是将一类功能放在一起，方便未来进行管理\n",
    "- 类的继承（上面已经讲过）\n",
    "- 类的多态\n",
    "    - 包括装饰器：将放在以后处理高级类中教\n",
    "    - 装饰器的好处：当许多类中的函数需要使用同一个功能的时候，那么使用装饰器就会方便许多\n",
    "    - 装饰器是有固定的写法\n",
    "        - 其包括普通装饰器与带参装饰器"
   ]
  },
  {
   "cell_type": "markdown",
   "metadata": {},
   "source": [
    "# Homewor\n",
    "## UML类图可以不用画\n",
    "## UML 实际上就是一个思维图\n",
    "- 1\n",
    "![](../Photo/91.png)"
   ]
  },
  {
   "cell_type": "code",
   "execution_count": 2,
   "metadata": {},
   "outputs": [
    {
     "name": "stdout",
     "output_type": "stream",
     "text": [
      "输入矩形的宽4\n",
      "输入矩形的长40\n",
      "矩形的宽为:4\n",
      "矩形的长为:40\n",
      "面积为:160\n",
      "周长为:88\n"
     ]
    }
   ],
   "source": [
    "class Rectangle(object):\n",
    "    def __init__(self):\n",
    "        width = 1\n",
    "        heightd = 2\n",
    "    def setwh(self,width,height):\n",
    "        self.width = width\n",
    "        self.heightd = height\n",
    "    def getArea(self):\n",
    "        return self.width*self.heightd\n",
    "    def getPerimeter(self):\n",
    "        return (self.width+self.heightd)*2\n",
    "rec=Rectangle()\n",
    "width = int(input('输入矩形的宽'))\n",
    "height = int(input('输入矩形的长'))\n",
    "rec.setwh(width,height)\n",
    "print('矩形的宽为:%s'%width)\n",
    "print('矩形的长为:%s'%height)\n",
    "print('面积为:%s'%rec.getArea())\n",
    "print('周长为:%s'%rec.getPerimeter())\n"
   ]
  },
  {
   "cell_type": "markdown",
   "metadata": {},
   "source": [
    "- 2\n",
    "![](../Photo/92.png)"
   ]
  },
  {
   "cell_type": "code",
   "execution_count": 1,
   "metadata": {},
   "outputs": [
    {
     "name": "stdout",
     "output_type": "stream",
     "text": [
      "id:1122\n",
      "金额:20000\n",
      "月利率:1.5\n",
      "月利息:25.625\n"
     ]
    }
   ],
   "source": [
    "class Account:\n",
    "    id = 0\n",
    "    balance = 100\n",
    "    annuna == 0\n",
    "    def __init__(self,id ,balance,annuna):\n",
    "        self.id=id\n",
    "        self.balance=balance\n",
    "        self.annuna=annuna\n",
    "        print('id:%s'%self.id)\n",
    "        print('金额:%s'%self.balance)\n",
    "\n",
    "    def withdraw(self,qu):\n",
    "        self.shenx=self.balance-qu\n",
    "    def deposit(self,cun):        \n",
    "        self.yu=self.shenx+cun\n",
    "\n",
    "    def getMonthlyInterestRate(self):\n",
    "        self.lil=(self.annuna/12)/100\n",
    "        print('月利率:%s'%self.annuna)\n",
    "    def getMonthlyInterest(self):\n",
    "        self.lix=self.yu*self.lil\n",
    "        print('月利息:%s'%self.lix) \n",
    "re = Account(1122,20000,1.5)\n",
    "re.withdraw(2500)\n",
    "re.deposit(3000)\n",
    "re.getMonthlyInterestRate()\n",
    "re.getMonthlyInterest()"
   ]
  },
  {
   "cell_type": "markdown",
   "metadata": {},
   "source": [
    "- 3\n",
    "![](../Photo/93.png)"
   ]
  },
  {
   "cell_type": "code",
   "execution_count": 3,
   "metadata": {},
   "outputs": [
    {
     "name": "stdout",
     "output_type": "stream",
     "text": [
      "fast True 10 yellow\n",
      "medium False 5 blue\n"
     ]
    }
   ],
   "source": [
    "class Fan ():\n",
    "    def __init__(self):\n",
    "        slow = 1\n",
    "        medium = 2\n",
    "        fast = 3\n",
    "        speed = 0\n",
    "        on = False\n",
    "        radius = 0.0\n",
    "        color = ''\n",
    "    def setSpeed(self,speed):\n",
    "        self.speed = speed\n",
    "    def getSpeed(self):\n",
    "        if self.speed == 1:\n",
    "            return 'slow'\n",
    "        if self.speed == 2:\n",
    "            return 'medium'\n",
    "        if self.speed == 3:\n",
    "            return 'fast'\n",
    "    def setOn(self,on): \n",
    "        self.on = on\n",
    "    def getOn(self):\n",
    "        return self.on\n",
    "    def setRadius(self,radius):\n",
    "        self.radius = radius\n",
    "    def getRadius(self):\n",
    "        return self.radius\n",
    "    def setColor(self,color):\n",
    "        self.color = color\n",
    "    def getColor(self):\n",
    "        return self.color\n",
    "fan1 = Fan()\n",
    "fan1.setSpeed(3)\n",
    "fan1.setOn(True)\n",
    "fan1.setRadius(10)\n",
    "fan1.setColor('yellow')\n",
    "fan1_speed = fan1.getSpeed()\n",
    "fan1_on = fan1.getOn()\n",
    "fan1_radius = fan1.getRadius()\n",
    "fan1_color = fan1.getColor()\n",
    "print(fan1_speed,fan1_on,fan1_radius,fan1_color)\n",
    "fan2 = Fan()\n",
    "fan2.setSpeed(2)\n",
    "fan2.setOn(False)\n",
    "fan2.setRadius(5)\n",
    "fan2.setColor('blue')\n",
    "fan2_speed = fan2.getSpeed()\n",
    "fan2_on = fan2.getOn()\n",
    "fan2_radius = fan2.getRadius()\n",
    "fan2_color = fan2.getColor()\n",
    "print(fan2_speed,fan2_on,fan2_radius,fan2_color)"
   ]
  },
  {
   "cell_type": "markdown",
   "metadata": {},
   "source": [
    "- 4\n",
    "![](../Photo/94.png)\n",
    "![](../Photo/95.png)"
   ]
  },
  {
   "cell_type": "code",
   "execution_count": null,
   "metadata": {
    "collapsed": true
   },
   "outputs": [],
   "source": [
    "import math\n",
    "class RegularPolygon(object):\n",
    "    n = 0\n",
    "    side = 0.0\n",
    "    x = 0.0\n",
    "    y = 0.0\n",
    "    def __init__(self,n,side,x,y):\n",
    "        n = 3\n",
    "        side = 1\n",
    "        x = 0\n",
    "        y = 0\n",
    "        s = 0\n",
    "        self.n = n  \n",
    "        self.side = side\n",
    "        self.x = x\n",
    "        self.y = y\n",
    "    def getPerimeter(self):\n",
    "        self.s = self.n*self.side\n",
    "        return self.n*self.side\n",
    "    def getArea(self):\n",
    "        return self.n*self.s*self.s/4*math.tan(math.pi()/self.n)\n",
    "re = RegularPolygon(10,4,5.6,7.8)\n",
    "print(re.getPerimeter())\n",
    "print(re.getArea())\n"
   ]
  },
  {
   "cell_type": "markdown",
   "metadata": {},
   "source": [
    "- 5\n",
    "![](../Photo/96.png)"
   ]
  },
  {
   "cell_type": "code",
   "execution_count": null,
   "metadata": {
    "collapsed": true
   },
   "outputs": [],
   "source": [
    "class LinearEquation(object):\n",
    "    a = 0\n",
    "    b = 0\n",
    "    c = 0 \n",
    "    d = 0 \n",
    "    e = 0\n",
    "    f = 0\n",
    "    def __init__(self,a,b,c,d,e,f):\n",
    "        self.a = a   \n",
    "        self.b = b\n",
    "        self.c = c\n",
    "        self.d = d\n",
    "        self.e = e\n",
    "        self.f = f\n",
    "    def getA(self):\n",
    "        return self.a\n",
    "    def getB(self):\n",
    "        return self.b\n",
    "    def getC(self):\n",
    "        return self.c\n",
    "    def getD(self):\n",
    "        return self.d\n",
    "    def getE(self):\n",
    "        return self.e\n",
    "    def getF(self):\n",
    "        return self.f\n",
    "    def isSolvable(self):\n",
    "        if a*d-b*c !=0:\n",
    "            return True\n",
    "        else:\n",
    "            return False\n",
    "    def getX(self):\n",
    "        return (self.e*self.d-self.b*self.f)/(self.a*self.d-self.b*self.c)\n",
    "    def getY(self):\n",
    "        return (self.a*self.f-self.e*self.c)/(self.a*self.d-self.b*self.c)\n",
    "a,b,c,d,e,f = map(int,input('请输入abcdef的值').split(','))\n",
    "linearEquation=LinearEquation(a,b,c,d,e,f)\n",
    "if linearEquation.isSolvable() == True:\n",
    "    print(linearEquation.getX())\n",
    "    print(linearEquation.getY())\n",
    "else:\n",
    "    print('这个方程式无解')"
   ]
  },
  {
   "cell_type": "markdown",
   "metadata": {},
   "source": [
    "- 6\n",
    "![](../Photo/97.png)"
   ]
  },
  {
   "cell_type": "code",
   "execution_count": 2,
   "metadata": {},
   "outputs": [
    {
     "name": "stdout",
     "output_type": "stream",
     "text": [
      "请输入第一条线段两个端点2.0,2.0,0,0\n",
      "请输入第一条线段两个端点0,2.0,2.0,0\n",
      "The intersecting point is: (1.000000,1.000000)\n"
     ]
    }
   ],
   "source": [
    "class LinearEquation(object):\n",
    "    a = 0\n",
    "    b = 0\n",
    "    c = 0 \n",
    "    d = 0 \n",
    "    e = 0\n",
    "    f = 0\n",
    "    def __init__(self,a,b,c,d,e,f):\n",
    "        self.a = a   \n",
    "        self.b = b\n",
    "        self.c = c\n",
    "        self.d = d\n",
    "        self.e = e\n",
    "        self.f = f\n",
    "    def getA(self):\n",
    "        return self.a\n",
    "    def getB(self):\n",
    "        return self.b\n",
    "    def getC(self):\n",
    "        return self.c\n",
    "    def getD(self):\n",
    "        return self.d\n",
    "    def getE(self):\n",
    "        return self.e\n",
    "    def getF(self):\n",
    "        return self.f\n",
    "    def isSolvable(self):\n",
    "        if a*d-b*c !=0:\n",
    "            return True\n",
    "        else:\n",
    "            return False\n",
    "    def getX(self):\n",
    "        return (self.e*self.d-self.b*self.f)/(self.a*self.d-self.b*self.c)\n",
    "    def getY(self):\n",
    "        return (self.a*self.f-self.e*self.c)/(self.a*self.d-self.b*self.c)\n",
    "x1,y1,x2,y2 = map(float,input('请输入第一条线段两个端点').split(','))\n",
    "x3,y3,x4,y4= map(float,input('请输入第一条线段两个端点').split(','))\n",
    "a = ( y1 - y2 )\n",
    "b = ( -x1 + x2 )\n",
    "e = -y1*(x1 - x2) + (y1 - y2) * x1\n",
    "c = (y3 - y4)\n",
    "d = (-x3 + x4)\n",
    "f = -y3*(x3 - x4) + (y3 - y4) * x3\n",
    "linearEquation=LinearEquation(a,b,c,d,e,f)\n",
    "if linearEquation.isSolvable() == True:\n",
    "    print('The intersecting point is: (%f,%f)'%(linearEquation.getX(),linearEquation.getY()))\n",
    "else:\n",
    "    print('这个方程式无解')"
   ]
  },
  {
   "cell_type": "markdown",
   "metadata": {},
   "source": [
    "- 7\n",
    "![](../Photo/98.png)"
   ]
  },
  {
   "cell_type": "code",
   "execution_count": null,
   "metadata": {
    "collapsed": true
   },
   "outputs": [],
   "source": [
    "class LinearEquation(object):\n",
    "    a = 0\n",
    "    b = 0\n",
    "    c = 0 \n",
    "    d = 0 \n",
    "    e = 0\n",
    "    f = 0\n",
    "    def __init__(self,a,b,c,d,e,f):\n",
    "        self.a = a   \n",
    "        self.b = b\n",
    "        self.c = c\n",
    "        self.d = d\n",
    "        self.e = e\n",
    "        self.f = f\n",
    "    def getA(self):\n",
    "        return self.a\n",
    "    def getB(self):\n",
    "        return self.b\n",
    "    def getC(self):\n",
    "        return self.c\n",
    "    def getD(self):\n",
    "        return self.d\n",
    "    def getE(self):\n",
    "        return self.e\n",
    "    def getF(self):\n",
    "        return self.f\n",
    "    def isSolvable(self):\n",
    "        if a*d-b*c !=0:\n",
    "            return True\n",
    "        else:\n",
    "            return False\n",
    "    def getX(self):\n",
    "        return (self.e*self.d-self.b*self.f)/(self.a*self.d-self.b*self.c)\n",
    "    def getY(self):\n",
    "        return (self.a*self.f-self.e*self.c)/(self.a*self.d-self.b*self.c)\n",
    "a,b,c,d,e,f = map(int,input('请输入abcdef的值').split(','))\n",
    "linearEquation=LinearEquation(a,b,c,d,e,f)\n",
    "if linearEquation.isSolvable() == True:\n",
    "    print(linearEquation.getX())\n",
    "    print(linearEquation.getY())\n",
    "else:\n",
    "    print('这个方程式无解')"
   ]
  }
 ],
 "metadata": {
  "kernelspec": {
   "display_name": "Python 3",
   "language": "python",
   "name": "python3"
  },
  "language_info": {
   "codemirror_mode": {
    "name": "ipython",
    "version": 3
   },
   "file_extension": ".py",
   "mimetype": "text/x-python",
   "name": "python",
   "nbconvert_exporter": "python",
   "pygments_lexer": "ipython3",
   "version": "3.6.1"
  }
 },
 "nbformat": 4,
 "nbformat_minor": 2
}
